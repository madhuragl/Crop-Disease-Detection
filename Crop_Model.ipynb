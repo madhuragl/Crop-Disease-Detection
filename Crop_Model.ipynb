{
  "nbformat": 4,
  "nbformat_minor": 0,
  "metadata": {
    "colab": {
      "provenance": []
    },
    "kernelspec": {
      "name": "python3",
      "display_name": "Python 3"
    },
    "language_info": {
      "name": "python"
    },
    "accelerator": "GPU",
    "gpuClass": "standard"
  },
  "cells": [
    {
      "cell_type": "code",
      "source": [
        "from google.colab import drive\n",
        "drive.mount('/content/drive')"
      ],
      "metadata": {
        "colab": {
          "base_uri": "https://localhost:8080/"
        },
        "id": "fZIv7WAzV7jc",
        "outputId": "80a1d95d-2732-496d-e82c-49a7b7e76e0f"
      },
      "execution_count": null,
      "outputs": [
        {
          "output_type": "stream",
          "name": "stdout",
          "text": [
            "Drive already mounted at /content/drive; to attempt to forcibly remount, call drive.mount(\"/content/drive\", force_remount=True).\n"
          ]
        }
      ]
    },
    {
      "cell_type": "code",
      "execution_count": null,
      "metadata": {
        "colab": {
          "base_uri": "https://localhost:8080/"
        },
        "id": "h_Tvw71XAMVN",
        "outputId": "f0f7c1ce-6f2c-4db3-8f4b-c4791ced80fc"
      },
      "outputs": [
        {
          "output_type": "stream",
          "name": "stdout",
          "text": [
            "Fri Mar 10 07:08:40 2023       \n",
            "+-----------------------------------------------------------------------------+\n",
            "| NVIDIA-SMI 525.85.12    Driver Version: 525.85.12    CUDA Version: 12.0     |\n",
            "|-------------------------------+----------------------+----------------------+\n",
            "| GPU  Name        Persistence-M| Bus-Id        Disp.A | Volatile Uncorr. ECC |\n",
            "| Fan  Temp  Perf  Pwr:Usage/Cap|         Memory-Usage | GPU-Util  Compute M. |\n",
            "|                               |                      |               MIG M. |\n",
            "|===============================+======================+======================|\n",
            "|   0  Tesla T4            Off  | 00000000:00:04.0 Off |                    0 |\n",
            "| N/A   48C    P0    28W /  70W |      0MiB / 15360MiB |      0%      Default |\n",
            "|                               |                      |                  N/A |\n",
            "+-------------------------------+----------------------+----------------------+\n",
            "                                                                               \n",
            "+-----------------------------------------------------------------------------+\n",
            "| Processes:                                                                  |\n",
            "|  GPU   GI   CI        PID   Type   Process name                  GPU Memory |\n",
            "|        ID   ID                                                   Usage      |\n",
            "|=============================================================================|\n",
            "|  No running processes found                                                 |\n",
            "+-----------------------------------------------------------------------------+\n"
          ]
        }
      ],
      "source": [
        "# Checking for GPU\n",
        "!nvidia-smi"
      ]
    },
    {
      "cell_type": "code",
      "source": [
        "import zipfile\n",
        "\n",
        "# Unzip the dataset file\n",
        "zip_ref = zipfile.ZipFile(\"/content/drive/MyDrive/Datas/Crop dataset.zip\")\n",
        "zip_ref.extractall()\n",
        "zip_ref.close()"
      ],
      "metadata": {
        "id": "3XOooWDYAxlY"
      },
      "execution_count": null,
      "outputs": []
    },
    {
      "cell_type": "code",
      "source": [
        "# Check of how many images in each folder?\n",
        "import os\n",
        "\n",
        "# Walk through files\n",
        "for dirpath, dirnames, filenames in os.walk(\"Crop dataset\"):\n",
        "  print(f\"There are {len(dirnames)} directories and {len(filenames)} images in '{dirpath}'.\")"
      ],
      "metadata": {
        "colab": {
          "base_uri": "https://localhost:8080/"
        },
        "id": "koe7mhbYFxFZ",
        "outputId": "8de844c3-f98f-4e3b-bd8b-0e8fdb299c84"
      },
      "execution_count": null,
      "outputs": [
        {
          "output_type": "stream",
          "name": "stdout",
          "text": [
            "There are 2 directories and 0 images in 'Crop dataset'.\n",
            "There are 31 directories and 0 images in 'Crop dataset/train'.\n",
            "There are 0 directories and 500 images in 'Crop dataset/train/Grape Black Rot'.\n",
            "There are 0 directories and 500 images in 'Crop dataset/train/Apple Scab'.\n",
            "There are 0 directories and 500 images in 'Crop dataset/train/Orange Haunglongbing (Citrus Greening)'.\n",
            "There are 0 directories and 500 images in 'Crop dataset/train/Tomato Early Blight'.\n",
            "There are 0 directories and 500 images in 'Crop dataset/train/Peach Bacterial Spot'.\n",
            "There are 0 directories and 500 images in 'Crop dataset/train/Tomato Septoria Leaf Spot'.\n",
            "There are 0 directories and 500 images in 'Crop dataset/train/Tomato Leaf Mold'.\n",
            "There are 0 directories and 500 images in 'Crop dataset/train/Corn Common Rust'.\n",
            "There are 0 directories and 500 images in 'Crop dataset/train/Potato Late Blight'.\n",
            "There are 0 directories and 500 images in 'Crop dataset/train/Corn Northern Leaf Blight'.\n",
            "There are 0 directories and 500 images in 'Crop dataset/train/Corn Cercospora Leaf Spot Gray Leaf Spot'.\n",
            "There are 0 directories and 500 images in 'Crop dataset/train/Cherry Healthy'.\n",
            "There are 0 directories and 500 images in 'Crop dataset/train/Tomato Yellow Leaf Curl Virus'.\n",
            "There are 0 directories and 500 images in 'Crop dataset/train/Squash Powdery Mildew'.\n",
            "There are 0 directories and 500 images in 'Crop dataset/train/Tomato Healthy'.\n",
            "There are 0 directories and 500 images in 'Crop dataset/train/Tomato Bacterial Spot'.\n",
            "There are 0 directories and 500 images in 'Crop dataset/train/Tomato Target Spot'.\n",
            "There are 0 directories and 500 images in 'Crop dataset/train/Grape Leaf Blight (Isariopsis Leaf Spot)'.\n",
            "There are 0 directories and 500 images in 'Crop dataset/train/Cherry Powdery Mildew'.\n",
            "There are 0 directories and 500 images in 'Crop dataset/train/Apple Healthy'.\n",
            "There are 0 directories and 500 images in 'Crop dataset/train/Corn Healthy'.\n",
            "There are 0 directories and 500 images in 'Crop dataset/train/Tomato Late Blight'.\n",
            "There are 0 directories and 500 images in 'Crop dataset/train/Pepper Bell Healthy'.\n",
            "There are 0 directories and 500 images in 'Crop dataset/train/Soybean Healthy'.\n",
            "There are 0 directories and 500 images in 'Crop dataset/train/Pepper Bell Bacterial Spot'.\n",
            "There are 0 directories and 500 images in 'Crop dataset/train/Potato Early Blight'.\n",
            "There are 0 directories and 500 images in 'Crop dataset/train/Strawberry Leaf Scorch'.\n",
            "There are 0 directories and 500 images in 'Crop dataset/train/Blueberry Healthy'.\n",
            "There are 0 directories and 500 images in 'Crop dataset/train/Apple Black Rot'.\n",
            "There are 0 directories and 500 images in 'Crop dataset/train/Grape Esca (Black Measles)'.\n",
            "There are 0 directories and 500 images in 'Crop dataset/train/Tomato Spider Mites'.\n",
            "There are 31 directories and 0 images in 'Crop dataset/test'.\n",
            "There are 0 directories and 680 images in 'Crop dataset/test/Grape Black Rot'.\n",
            "There are 0 directories and 130 images in 'Crop dataset/test/Apple Scab'.\n",
            "There are 0 directories and 5007 images in 'Crop dataset/test/Orange Haunglongbing (Citrus Greening)'.\n",
            "There are 0 directories and 500 images in 'Crop dataset/test/Tomato Early Blight'.\n",
            "There are 0 directories and 1797 images in 'Crop dataset/test/Peach Bacterial Spot'.\n",
            "There are 0 directories and 1271 images in 'Crop dataset/test/Tomato Septoria Leaf Spot'.\n",
            "There are 0 directories and 452 images in 'Crop dataset/test/Tomato Leaf Mold'.\n",
            "There are 0 directories and 692 images in 'Crop dataset/test/Corn Common Rust'.\n",
            "There are 0 directories and 500 images in 'Crop dataset/test/Potato Late Blight'.\n",
            "There are 0 directories and 485 images in 'Crop dataset/test/Corn Northern Leaf Blight'.\n",
            "There are 0 directories and 13 images in 'Crop dataset/test/Corn Cercospora Leaf Spot Gray Leaf Spot'.\n",
            "There are 0 directories and 354 images in 'Crop dataset/test/Cherry Healthy'.\n",
            "There are 0 directories and 4857 images in 'Crop dataset/test/Tomato Yellow Leaf Curl Virus'.\n",
            "There are 0 directories and 1335 images in 'Crop dataset/test/Squash Powdery Mildew'.\n",
            "There are 0 directories and 1091 images in 'Crop dataset/test/Tomato Healthy'.\n",
            "There are 0 directories and 1627 images in 'Crop dataset/test/Tomato Bacterial Spot'.\n",
            "There are 0 directories and 904 images in 'Crop dataset/test/Tomato Target Spot'.\n",
            "There are 0 directories and 576 images in 'Crop dataset/test/Grape Leaf Blight (Isariopsis Leaf Spot)'.\n",
            "There are 0 directories and 552 images in 'Crop dataset/test/Cherry Powdery Mildew'.\n",
            "There are 0 directories and 1145 images in 'Crop dataset/test/Apple Healthy'.\n",
            "There are 0 directories and 662 images in 'Crop dataset/test/Corn Healthy'.\n",
            "There are 0 directories and 1409 images in 'Crop dataset/test/Tomato Late Blight'.\n",
            "There are 0 directories and 978 images in 'Crop dataset/test/Pepper Bell Healthy'.\n",
            "There are 0 directories and 4590 images in 'Crop dataset/test/Soybean Healthy'.\n",
            "There are 0 directories and 497 images in 'Crop dataset/test/Pepper Bell Bacterial Spot'.\n",
            "There are 0 directories and 500 images in 'Crop dataset/test/Potato Early Blight'.\n",
            "There are 0 directories and 609 images in 'Crop dataset/test/Strawberry Leaf Scorch'.\n",
            "There are 0 directories and 1002 images in 'Crop dataset/test/Blueberry Healthy'.\n",
            "There are 0 directories and 121 images in 'Crop dataset/test/Apple Black Rot'.\n",
            "There are 0 directories and 883 images in 'Crop dataset/test/Grape Esca (Black Measles)'.\n",
            "There are 0 directories and 1176 images in 'Crop dataset/test/Tomato Spider Mites'.\n"
          ]
        }
      ]
    },
    {
      "cell_type": "code",
      "source": [
        "# Setup data inputs\n",
        "from tensorflow.keras.preprocessing.image import ImageDataGenerator\n",
        "\n",
        "IMAGE_SHAPE = (256, 256)\n",
        "BATCH_SIZE = 32\n",
        "\n",
        "train_dir = \"Crop dataset/train/\"\n",
        "test_dir = \"Crop dataset/test/\"\n",
        "\n",
        "train_datagen = ImageDataGenerator(rescale=1/255.,\n",
        "                                   rotation_range=0.2,\n",
        "                                   width_shift_range=0.2,\n",
        "                                   height_shift_range=0.2,\n",
        "                                   zoom_range=0.2,\n",
        "                                   horizontal_flip=True)\n",
        "test_datagen = ImageDataGenerator(rescale=1/255.)\n",
        "\n",
        "print(\"Training Images:\")\n",
        "train_data = train_datagen.flow_from_directory(train_dir,\n",
        "                                               target_size=IMAGE_SHAPE,\n",
        "                                               batch_size=BATCH_SIZE,\n",
        "                                               class_mode=\"categorical\")\n",
        "\n",
        "print(\"Testing Images:\")\n",
        "test_data = test_datagen.flow_from_directory(test_dir,\n",
        "                                             target_size=IMAGE_SHAPE,\n",
        "                                             batch_size=BATCH_SIZE,\n",
        "                                             class_mode=\"categorical\")"
      ],
      "metadata": {
        "colab": {
          "base_uri": "https://localhost:8080/"
        },
        "id": "lhoDwbjPF-KK",
        "outputId": "33c50d6a-8b8d-4c31-ce69-c1db3389439d"
      },
      "execution_count": null,
      "outputs": [
        {
          "output_type": "stream",
          "name": "stdout",
          "text": [
            "Training Images:\n",
            "Found 15500 images belonging to 31 classes.\n",
            "Testing Images:\n",
            "Found 36395 images belonging to 31 classes.\n"
          ]
        }
      ]
    },
    {
      "cell_type": "code",
      "source": [
        "efficientnet_url = \"https://tfhub.dev/tensorflow/efficientnet/b0/feature-vector/1\""
      ],
      "metadata": {
        "id": "E4F14MQ3GfoJ"
      },
      "execution_count": null,
      "outputs": []
    },
    {
      "cell_type": "code",
      "source": [
        "# Import dependencies\n",
        "import tensorflow as tf\n",
        "import tensorflow_hub as hub\n",
        "from tensorflow.keras import layers"
      ],
      "metadata": {
        "id": "J6T9uz-jGgFC"
      },
      "execution_count": null,
      "outputs": []
    },
    {
      "cell_type": "code",
      "source": [
        "# Lets make a create model() function to create a model from the URL\n",
        "def create_model(model_url, num_classes=31):\n",
        "  \"\"\"\n",
        "  Takes a Tensorflow Hub URL and creates Keras Sequential model with it.\n",
        "\n",
        "  Args:\n",
        "    model_url (str) : A Tensorflow Hub feature extraction URL.\n",
        "    num_classes (int): Number of output neurons in the output layer,\n",
        "      should be equal to number of target classes, default 10\n",
        "    Returns:\n",
        "    An uncompiled Keras Sequential model with model_url as feature extractor\n",
        "      layer and Dense output layer with num_classes output neurons.\n",
        "    \"\"\"\n",
        "  # Download the pretrained model and save it as keras layer\n",
        "  feature_extractor_layer = hub.KerasLayer(model_url,\n",
        "                                           trainable=False,\n",
        "                                           name=\"feature_extraction_layer\",\n",
        "                                           input_shape=IMAGE_SHAPE+(3,))\n",
        "  \n",
        "  # Create our own model\n",
        "  model = tf.keras.Sequential([\n",
        "      feature_extractor_layer,\n",
        "      layers.Dense(num_classes, activation=\"softmax\", name=\"output_layer\")\n",
        "  ])\n",
        "\n",
        "  return model"
      ],
      "metadata": {
        "id": "N1CtDA5gGiMq"
      },
      "execution_count": null,
      "outputs": []
    },
    {
      "cell_type": "code",
      "source": [
        "# Create EfficientNetB0 feature extraction model\n",
        "efficientnet_model = create_model(model_url=efficientnet_url,\n",
        "                                  num_classes=train_data.num_classes)\n",
        "\n",
        "# Compile Efficient net model\n",
        "efficientnet_model.compile(loss=\"categorical_crossentropy\",\n",
        "                           optimizer=tf.keras.optimizers.Adam(),\n",
        "                           metrics=[\"accuracy\"])\n",
        "\n",
        "# Fit the EfficientNet model to 10% of training data\n",
        "efficientnet_history = efficientnet_model.fit(train_data,\n",
        "                                              epochs=5,\n",
        "                                              steps_per_epoch=len(train_data),\n",
        "                                              validation_data=test_data,\n",
        "                                              validation_steps=len(test_data))"
      ],
      "metadata": {
        "colab": {
          "base_uri": "https://localhost:8080/"
        },
        "id": "vmpI9IEEG0xj",
        "outputId": "e45da872-868e-410c-cb35-8c086d3ed5d5"
      },
      "execution_count": null,
      "outputs": [
        {
          "output_type": "stream",
          "name": "stderr",
          "text": [
            "WARNING:tensorflow:Please fix your imports. Module tensorflow.python.training.tracking.data_structures has been moved to tensorflow.python.trackable.data_structures. The old module will be deleted in version 2.11.\n",
            "WARNING:tensorflow:From /usr/local/lib/python3.9/dist-packages/tensorflow/python/autograph/pyct/static_analysis/liveness.py:83: Analyzer.lamba_check (from tensorflow.python.autograph.pyct.static_analysis.liveness) is deprecated and will be removed after 2023-09-23.\n",
            "Instructions for updating:\n",
            "Lambda fuctions will be no more assumed to be used in the statement where they are used, or at least in the same block. https://github.com/tensorflow/tensorflow/issues/56089\n"
          ]
        },
        {
          "output_type": "stream",
          "name": "stdout",
          "text": [
            "Epoch 1/5\n",
            "485/485 [==============================] - 382s 748ms/step - loss: 0.9009 - accuracy: 0.8072 - val_loss: 0.3837 - val_accuracy: 0.9085\n",
            "Epoch 2/5\n",
            "485/485 [==============================] - 357s 736ms/step - loss: 0.3126 - accuracy: 0.9232 - val_loss: 0.2368 - val_accuracy: 0.9422\n",
            "Epoch 3/5\n",
            "485/485 [==============================] - 347s 716ms/step - loss: 0.2252 - accuracy: 0.9442 - val_loss: 0.1932 - val_accuracy: 0.9501\n",
            "Epoch 4/5\n",
            "485/485 [==============================] - 350s 722ms/step - loss: 0.1827 - accuracy: 0.9520 - val_loss: 0.1478 - val_accuracy: 0.9635\n",
            "Epoch 5/5\n",
            "485/485 [==============================] - 355s 732ms/step - loss: 0.1506 - accuracy: 0.9612 - val_loss: 0.1538 - val_accuracy: 0.9566\n"
          ]
        }
      ]
    },
    {
      "cell_type": "code",
      "source": [
        "# Let's create a function to plot our loss curves\n",
        "# You could put a function like this into a script called \"helper.py\" and import it whenever needed\n",
        "import matplotlib.pyplot as plt\n",
        "\n",
        "# Plot the validation and training curves\n",
        "def plot_loss_curves(history):\n",
        "  \"\"\"\n",
        "  Returns seperate loss curves for training and validation metrics.\n",
        "\n",
        "  Args:\n",
        "    history: Tensorflow History object.\n",
        "  \n",
        "  Returns:\n",
        "    Plots of training/validation loss and accuracy metrics.\n",
        "  \"\"\"\n",
        "  loss = history.history[\"loss\"]\n",
        "  val_loss = history.history[\"val_loss\"]\n",
        "  \n",
        "  accuracy = history.history[\"accuracy\"]\n",
        "  val_accuracy = history.history[\"val_accuracy\"]\n",
        "\n",
        "  epochs = range(len(history.history[\"loss\"]))\n",
        "\n",
        "  # Plot loss\n",
        "  \n",
        "  plt.plot(epochs, loss, label=\"training_loss\")\n",
        "  plt.plot(epochs, val_loss, label=\"val_loss\")\n",
        "  plt.title(\"Loss\")\n",
        "  plt.xlabel(\"Epochs\")\n",
        "  plt.legend()\n",
        "\n",
        "  # Plot accuracy\n",
        "  plt.figure()\n",
        "  plt.plot(epochs, accuracy, label=\"training_accuracy\")\n",
        "  plt.plot(epochs, val_accuracy, label=\"val_accuracy\")\n",
        "  plt.title(\"Accuracy\")\n",
        "  plt.xlabel(\"Epochs\")\n",
        "  plt.legend();"
      ],
      "metadata": {
        "id": "XEudEQDlKA5B"
      },
      "execution_count": null,
      "outputs": []
    },
    {
      "cell_type": "code",
      "source": [
        "plot_loss_curves(efficientnet_history)"
      ],
      "metadata": {
        "colab": {
          "base_uri": "https://localhost:8080/",
          "height": 573
        },
        "id": "tXPVOQIuKBSa",
        "outputId": "d131c7dc-cc3e-43e6-f8e0-d96112f4f095"
      },
      "execution_count": null,
      "outputs": [
        {
          "output_type": "display_data",
          "data": {
            "text/plain": [
              "<Figure size 432x288 with 1 Axes>"
            ],
            "image/png": "[encoded data removed]"
          },
          "metadata": {
            "needs_background": "light"
          }
        },
        {
          "output_type": "display_data",
          "data": {
            "text/plain": [
              "<Figure size 432x288 with 1 Axes>"
            ],
            "image/png": "[encoded data removed]"
          },
          "metadata": {
            "needs_background": "light"
          }
        }
      ]
    },
    {
      "cell_type": "code",
      "source": [
        "efficientnet_model.summary()"
      ],
      "metadata": {
        "colab": {
          "base_uri": "https://localhost:8080/"
        },
        "id": "30OpIpx6KKqD",
        "outputId": "3987bd22-2bc6-445e-c8c3-a07a112bc633"
      },
      "execution_count": null,
      "outputs": [
        {
          "output_type": "stream",
          "name": "stdout",
          "text": [
            "Model: \"sequential\"\n",
            "_________________________________________________________________\n",
            " Layer (type)                Output Shape              Param #   \n",
            "=================================================================\n",
            " feature_extraction_layer (K  (None, 1280)             4049564   \n",
            " erasLayer)                                                      \n",
            "                                                                 \n",
            " output_layer (Dense)        (None, 31)                39711     \n",
            "                                                                 \n",
            "=================================================================\n",
            "Total params: 4,089,275\n",
            "Trainable params: 39,711\n",
            "Non-trainable params: 4,049,564\n",
            "_________________________________________________________________\n"
          ]
        }
      ]
    },
    {
      "cell_type": "code",
      "source": [
        "# How many layers does our efficientnet_model has\n",
        "len(efficientnet_model.layers[0].weights)"
      ],
      "metadata": {
        "colab": {
          "base_uri": "https://localhost:8080/"
        },
        "id": "-0dniu5iKN8L",
        "outputId": "3eab72a8-5968-4697-9fd4-570297dc067a"
      },
      "execution_count": null,
      "outputs": [
        {
          "output_type": "execute_result",
          "data": {
            "text/plain": [
              "309"
            ]
          },
          "metadata": {},
          "execution_count": 13
        }
      ]
    },
    {
      "cell_type": "code",
      "source": [
        "# Saving the model\n",
        "efficientnet_model.save(\"Trained crop model.h5\")"
      ],
      "metadata": {
        "id": "V_GXG69d49cS"
      },
      "execution_count": null,
      "outputs": []
    }
  ]
}